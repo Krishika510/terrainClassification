{
  "nbformat": 4,
  "nbformat_minor": 0,
  "metadata": {
    "colab": {
      "name": "NN_C1_Final_Prediction",
      "provenance": [],
      "collapsed_sections": [],
      "include_colab_link": true
    },
    "kernelspec": {
      "display_name": "Python 3",
      "name": "python3"
    },
    "language_info": {
      "name": "python"
    }
  },
  "cells": [
    {
      "cell_type": "markdown",
      "metadata": {
        "id": "view-in-github",
        "colab_type": "text"
      },
      "source": [
        "<a href=\"https://colab.research.google.com/github/Krishika510/terrainClassification/blob/master/NN_C1_Final_Prediction.ipynb\" target=\"_parent\"><img src=\"https://colab.research.google.com/assets/colab-badge.svg\" alt=\"Open In Colab\"/></a>"
      ]
    },
    {
      "cell_type": "code",
      "metadata": {
        "colab": {
          "base_uri": "https://localhost:8080/"
        },
        "id": "fJXKuBQg2COO",
        "outputId": "d6fbc7cf-6d3e-4dfa-fa3d-e8b64bbbbdd7"
      },
      "source": [
        "# Importing google drive and mounting the drive.\n",
        "\n",
        "from google.colab import drive\n",
        "drive.mount('/content/gdrive')"
      ],
      "execution_count": 18,
      "outputs": [
        {
          "output_type": "stream",
          "text": [
            "Drive already mounted at /content/gdrive; to attempt to forcibly remount, call drive.mount(\"/content/gdrive\", force_remount=True).\n"
          ],
          "name": "stdout"
        }
      ]
    },
    {
      "cell_type": "code",
      "metadata": {
        "id": "6-wL53_X25G_"
      },
      "source": [
        "# Importing all the necessary modules.\n",
        "\n",
        "import pandas as pd\n",
        "import numpy as np\n",
        "from keras.models import Sequential\n",
        "from keras.layers import Dense, Dropout, LSTM, Activation, InputLayer\n",
        "from keras.optimizers import Adam\n",
        "from sklearn.utils import class_weight\n",
        "# from keras import backend as K\n",
        "from sklearn.preprocessing import StandardScaler\n",
        "from keras.utils import to_categorical\n",
        "from collections import Counter\n",
        "from keras import utils as np_utils\n",
        "from keras.utils.vis_utils import plot_model\n",
        "import matplotlib.pyplot as plt\n",
        "# import tensorflow as tf\n",
        "\n",
        "scaler = StandardScaler()"
      ],
      "execution_count": 29,
      "outputs": []
    },
    {
      "cell_type": "code",
      "metadata": {
        "id": "W_ZMZV0v25Jh"
      },
      "source": [
        "#Splitting given files into training, test and validation dataset.\n",
        "\n",
        "X_files = ['subject_001_01__x.csv', 'subject_001_02__x.csv', \n",
        "           'subject_001_03__x.csv', 'subject_001_04__x.csv',\n",
        "           'subject_001_06__x.csv',\n",
        "           'subject_001_07__x.csv', 'subject_001_08__x.csv',\n",
        "           'subject_002_01__x.csv', 'subject_002_02__x.csv',\n",
        "           'subject_002_03__x.csv',\n",
        "           'subject_002_05__x.csv', 'subject_003_01__x.csv',\n",
        "           'subject_005_02__x.csv',\n",
        "           'subject_005_03__x.csv', 'subject_006_01__x.csv',\n",
        "           'subject_006_02__x.csv', 'subject_006_03__x.csv',\n",
        "           'subject_007_01__x.csv',\n",
        "           'subject_007_03__x.csv', 'subject_007_04__x.csv',\n",
        "           'subject_008_01__x.csv']\n",
        "\n",
        "X_test_files = ['subject_001_05__x.csv','subject_005_01__x.csv']\n",
        "X_val_files = ['subject_007_02__x.csv','subject_002_04__x.csv']\n",
        "\n",
        "y_files = ['subject_001_01__y.csv', 'subject_001_02__y.csv', \n",
        "           'subject_001_03__y.csv', 'subject_001_04__y.csv',\n",
        "           'subject_001_06__y.csv',\n",
        "           'subject_001_07__y.csv', 'subject_001_08__y.csv',\n",
        "           'subject_002_01__y.csv', 'subject_002_02__y.csv',\n",
        "           'subject_002_03__y.csv',\n",
        "           'subject_002_05__y.csv', 'subject_003_01__y.csv',\n",
        "           'subject_005_02__y.csv',\n",
        "           'subject_005_03__y.csv', 'subject_006_01__y.csv',\n",
        "           'subject_006_02__y.csv', 'subject_006_03__y.csv',\n",
        "           'subject_007_01__y.csv',\n",
        "           'subject_007_03__y.csv', 'subject_007_04__y.csv',\n",
        "           'subject_008_01__y.csv']\n",
        "\n",
        "y_test_files = ['subject_001_05__y.csv', 'subject_005_01__y.csv']\n",
        "y_val_files = ['subject_007_02__y.csv',  'subject_002_04__y.csv']\n"
      ],
      "execution_count": 28,
      "outputs": []
    },
    {
      "cell_type": "code",
      "metadata": {
        "colab": {
          "base_uri": "https://localhost:8080/"
        },
        "id": "r9lnFscfwBhg",
        "outputId": "b17be427-a76e-47f0-93d5-88472a79ce4e"
      },
      "source": [
        "%cd '/content/gdrive/MyDrive/data/'"
      ],
      "execution_count": 21,
      "outputs": [
        {
          "output_type": "stream",
          "text": [
            "/content/gdrive/MyDrive/data\n"
          ],
          "name": "stdout"
        }
      ]
    },
    {
      "cell_type": "code",
      "metadata": {
        "id": "GAqWha2o_K2C"
      },
      "source": [
        "# Defining variables for training dataset.\n",
        "final_x_train= []\n",
        "final_y_train=[]\n",
        "\n",
        "# Defining variables for validation dataset.\n",
        "final_x_val = []\n",
        "final_y_val = []\n",
        "\n",
        "#Defining variables for test dataset.\n",
        "final_x_test = []\n",
        "final_y_test =[]"
      ],
      "execution_count": 27,
      "outputs": []
    },
    {
      "cell_type": "code",
      "metadata": {
        "id": "O4Y_hSN6Lxe6"
      },
      "source": [
        "# Mode function to find highest occurrent label in a window.\n",
        "\n",
        "def mode(a, axis=0):\n",
        "    scores = np.unique(np.ravel(a))\n",
        "    testshape = list(a.shape)\n",
        "    testshape[axis] = 1\n",
        "    oldmostfreq = np.zeros(testshape)\n",
        "    oldcounts = np.zeros(testshape)\n",
        "\n",
        "    for score in scores:\n",
        "        template = (a == score)\n",
        "        counts = np.expand_dims(np.sum(template, axis),axis)\n",
        "        mostfrequent = np.where(counts > oldcounts, score, oldmostfreq)\n",
        "        oldcounts = np.maximum(counts, oldcounts)\n",
        "        oldmostfreq = mostfrequent\n",
        "\n",
        "    return mostfrequent, oldcounts"
      ],
      "execution_count": 24,
      "outputs": []
    },
    {
      "cell_type": "code",
      "metadata": {
        "id": "-SBZdInz8PrG"
      },
      "source": [
        "# Preprocessing the training data.\n",
        "\n",
        "for i in range(len(y_files)):\n",
        "  X_df = pd.read_csv(X_files[i])\n",
        "  y_df = pd.read_csv(y_files[i])\n",
        "  a=[]\n",
        "  for i in range(0, len(y_df)):\n",
        "    a+=[y_df['0'][i]] * 4\n",
        "  upsampled_df = pd.DataFrame(a)\n",
        "  diff = X_df.shape[0] - upsampled_df.shape[0]\n",
        "  X_df = X_df.iloc[:-diff,:]\n",
        "\n",
        "  sc=StandardScaler()\n",
        "  X_df=sc.fit_transform(X_df)\n",
        "\n",
        "  x_arr=[]\n",
        "  y_arr=[]\n",
        "\n",
        "  for j in range(len(X_df)-30):\n",
        "            window=30\n",
        "            df = X_df[j].copy()\n",
        "            df_len = len(df)\n",
        "            x_arr.append(X_df[j:(j+window)]) \n",
        "            y_arr.append(mode(upsampled_df.iloc[j:(j+window)])[0])\n",
        "  final_x_train.append(np.array(x_arr))\n",
        "  final_y_train.append(np.array(y_arr).reshape(-1,1))\n",
        "\n",
        "trainX, trainY = np.concatenate(final_x_train), np.concatenate(final_y_train)"
      ],
      "execution_count": 25,
      "outputs": []
    },
    {
      "cell_type": "code",
      "metadata": {
        "id": "ynPPtAQBGAiI"
      },
      "source": [
        "# Preprocessing the validation data.\n",
        "\n",
        "for i in range(len(y_val_files)):\n",
        "  X_df = pd.read_csv(X_val_files[i])\n",
        "  y_df = pd.read_csv(y_val_files[i])\n",
        "  a=[]\n",
        "  for i in range(0, len(y_df)):\n",
        "    a+=[y_df['0'][i]] * 4\n",
        "  upsampled_df = pd.DataFrame(a)\n",
        "  diff = X_df.shape[0] - upsampled_df.shape[0]\n",
        "  X_df = X_df.iloc[:-diff,:]\n",
        "\n",
        "  sc=StandardScaler()\n",
        "  X_df=sc.fit_transform(X_df)\n",
        "\n",
        "  x_arr=[]\n",
        "  y_arr=[]\n",
        "\n",
        "  for j in range(len(X_df)-30):\n",
        "            window=30\n",
        "            df = X_df[j].copy()\n",
        "            df_len = len(df)\n",
        "            x_arr.append(X_df[j:(j+window)]) \n",
        "            y_arr.append(mode(upsampled_df.iloc[j:(j+window)])[0])\n",
        "  final_x_val.append(np.array(x_arr))\n",
        "  final_y_val.append(np.array(y_arr).reshape(-1,1))\n",
        "\n",
        "valX, valY = np.concatenate(final_x_val), np.concatenate(final_y_val)"
      ],
      "execution_count": 30,
      "outputs": []
    },
    {
      "cell_type": "code",
      "metadata": {
        "id": "mALE0xKgGn9D"
      },
      "source": [
        "# Preprocessing the test data.\n",
        "\n",
        "for i in range(len(y_test_files)):\n",
        "  X_df = pd.read_csv(X_test_files[i])\n",
        "  y_df = pd.read_csv(y_test_files[i])\n",
        "  a=[]\n",
        "  for i in range(0, len(y_df)):\n",
        "    a+=[y_df['0'][i]] * 4\n",
        "  upsampled_df = pd.DataFrame(a)\n",
        "  diff = X_df.shape[0] - upsampled_df.shape[0]\n",
        "  X_df = X_df.iloc[:-diff,:]\n",
        "\n",
        "  sc=StandardScaler()\n",
        "  X_df=sc.fit_transform(X_df)\n",
        "\n",
        "  x_arr=[]\n",
        "  y_arr=[]\n",
        "\n",
        "  for j in range(len(X_df)-30):\n",
        "            window=30\n",
        "            df = X_df[j].copy()\n",
        "            df_len = len(df)\n",
        "            x_arr.append(X_df[j:(j+window)]) \n",
        "            y_arr.append(mode(upsampled_df.iloc[j:(j+window)])[0])\n",
        "  final_x_test.append(np.array(x_arr))\n",
        "  final_y_test.append(np.array(y_arr).reshape(-1,1))\n",
        "\n",
        "testX, testY = np.concatenate(final_x_test), np.concatenate(final_y_test)"
      ],
      "execution_count": 31,
      "outputs": []
    },
    {
      "cell_type": "code",
      "metadata": {
        "colab": {
          "base_uri": "https://localhost:8080/"
        },
        "id": "WNg1VYdUHChR",
        "outputId": "90b2dcbe-574d-4c26-a356-020aa0688305"
      },
      "source": [
        "# Weighing classes to support the data imbalance.\n",
        "\n",
        "from sklearn.utils import class_weight\n",
        "\n",
        "label_weights = class_weight.compute_class_weight('balanced', np.unique(trainY), trainY.ravel())\n",
        "print(label_weights)\n",
        "label_weights = {i:label_weights[i] for i in range(len(label_weights))} # Create dictionary\n",
        "print(label_weights)"
      ],
      "execution_count": 32,
      "outputs": [
        {
          "output_type": "stream",
          "text": [
            "[0.33743318 6.08652052 4.65799658 1.52098606]\n",
            "{0: 0.33743317764132047, 1: 6.08652052238806, 2: 4.657996580811212, 3: 1.520986056326796}\n"
          ],
          "name": "stdout"
        }
      ]
    },
    {
      "cell_type": "code",
      "metadata": {
        "id": "SP9YWqb8Hi56"
      },
      "source": [
        "# One hot encoding of y labels.\n",
        "\n",
        "hot_y_train = np_utils.to_categorical(trainY)\n",
        "hot_y_val = np_utils.to_categorical(valY)\n",
        "hot_y_test = np_utils.to_categorical(testY)"
      ],
      "execution_count": 33,
      "outputs": []
    },
    {
      "cell_type": "code",
      "metadata": {
        "id": "LZKHVqifHCjj"
      },
      "source": [
        "# Defining the LSTM model.\n",
        "\n",
        "timestep, features, n_outputs = trainX.shape[1], trainX.shape[2] , hot_y_train.shape[1]\n",
        "model_LSTM = Sequential()\n",
        "model_LSTM.add(InputLayer(input_shape=(timestep, features)))\n",
        "model_LSTM.add(LSTM(units=125, activation='relu'))\n",
        "model_LSTM.add(Dropout(0.5))\n",
        "model_LSTM.add(Dense(units = 125, activation = 'relu'))\n",
        "model_LSTM.add(Dense(n_outputs, activation='softmax')) # output layer\n",
        "model_LSTM.compile(loss='categorical_crossentropy', optimizer=Adam(learning_rate=0.001), metrics=['accuracy'])"
      ],
      "execution_count": 34,
      "outputs": []
    },
    {
      "cell_type": "code",
      "metadata": {
        "colab": {
          "base_uri": "https://localhost:8080/",
          "height": 533
        },
        "id": "xh6rZXUGP5-5",
        "outputId": "e4ff926b-2879-4c11-db63-cdb55d98e825"
      },
      "source": [
        "# Plotting the LSTM model layers.\n",
        "\n",
        "plot_model(model_LSTM, to_file='model_plot.png', show_shapes=True, show_layer_names=True)"
      ],
      "execution_count": 35,
      "outputs": [
        {
          "output_type": "execute_result",
          "data": {
            "image/png": "[encoded data removed]",
            "text/plain": [
              "<IPython.core.display.Image object>"
            ]
          },
          "metadata": {
            "tags": []
          },
          "execution_count": 35
        }
      ]
    },
    {
      "cell_type": "code",
      "metadata": {
        "colab": {
          "base_uri": "https://localhost:8080/"
        },
        "id": "vG7M6u9xXAm6",
        "outputId": "08d8f26c-59ef-4e49-ab98-2ef817d35e67"
      },
      "source": [
        "#Fitting the model with dataset created and saving in the variable history.\n",
        "\n",
        "history = model_LSTM.fit(trainX, hot_y_train, epochs = 10, batch_size = 256,\n",
        "                   validation_data = (valX, hot_y_val), class_weight = label_weights,\n",
        "                   verbose = 1, shuffle = True)"
      ],
      "execution_count": null,
      "outputs": [
        {
          "output_type": "stream",
          "text": [
            "Epoch 1/10\n",
            "2433/3875 [=================>............] - ETA: 2:40 - loss: 0.5721 - accuracy: 0.6279"
          ],
          "name": "stdout"
        }
      ]
    },
    {
      "cell_type": "code",
      "metadata": {
        "colab": {
          "base_uri": "https://localhost:8080/",
          "height": 590
        },
        "id": "s7SYSCn7QS75",
        "outputId": "c752edc0-ca04-4744-dbb4-bdef42bc4747"
      },
      "source": [
        "# Summarize history for accuracy\n",
        "plt.plot(history.history['accuracy'], color='red')\n",
        "plt.plot(history.history['val_accuracy'], color='blue')\n",
        "plt.title('model accuracy')\n",
        "plt.ylabel('accuracy')\n",
        "plt.xlabel('epoch')\n",
        "plt.legend(['train', 'validation'], loc='upper left')\n",
        "plt.show()\n",
        "\n",
        "# Summarize history for loss\n",
        "plt.plot(history.history['loss'], color='red')\n",
        "plt.plot(history.history['val_loss'], color='blue')\n",
        "plt.title('model loss')\n",
        "plt.ylabel('loss')\n",
        "plt.xlabel('epoch')\n",
        "plt.legend(['train', 'validation'], loc='upper left')\n",
        "plt.show()"
      ],
      "execution_count": null,
      "outputs": [
        {
          "output_type": "stream",
          "text": [
            "dict_keys(['loss', 'accuracy', 'val_loss', 'val_accuracy'])\n"
          ],
          "name": "stdout"
        },
        {
          "output_type": "display_data",
          "data": {
            "image/png": "[encoded data removed]",
            "text/plain": [
              "<Figure size 432x288 with 1 Axes>"
            ]
          },
          "metadata": {
            "tags": [],
            "needs_background": "light"
          }
        },
        {
          "output_type": "display_data",
          "data": {
            "image/png": "[encoded data removed]",
            "text/plain": [
              "<Figure size 432x288 with 1 Axes>"
            ]
          },
          "metadata": {
            "tags": [],
            "needs_background": "light"
          }
        }
      ]
    },
    {
      "cell_type": "code",
      "metadata": {
        "colab": {
          "base_uri": "https://localhost:8080/"
        },
        "id": "oubLXWNUXVzZ",
        "outputId": "2222ae15-6f9b-49f0-df45-fc3795f58ec6"
      },
      "source": [
        "# Generating the classification report on test dataset.\n",
        "\n",
        "from sklearn.metrics import confusion_matrix,accuracy_score,classification_report\n",
        "\n",
        "y_pred = model_LSTM.predict(testX, batch_size = 256, verbose = 1)\n",
        "y_test_bool = np.argmax(y_pred, axis = 1)\n",
        "print(classification_report(testY, y_test_bool))"
      ],
      "execution_count": null,
      "outputs": [
        {
          "output_type": "stream",
          "text": [
            "450/450 [==============================] - 21s 46ms/step\n",
            "              precision    recall  f1-score   support\n",
            "\n",
            "         0.0       0.97      0.94      0.96     90937\n",
            "         1.0       0.83      0.97      0.90      6247\n",
            "         2.0       0.82      0.98      0.89      9171\n",
            "         3.0       0.77      0.74      0.75      8777\n",
            "\n",
            "    accuracy                           0.93    115132\n",
            "   macro avg       0.85      0.91      0.87    115132\n",
            "weighted avg       0.94      0.93      0.93    115132\n",
            "\n"
          ],
          "name": "stdout"
        }
      ]
    },
    {
      "cell_type": "code",
      "metadata": {
        "colab": {
          "base_uri": "https://localhost:8080/"
        },
        "id": "pS7JwvTD1QKr",
        "outputId": "6e275373-b6e6-428f-ba3e-f73a972e1dff"
      },
      "source": [
        "# Navigating to prediction dataset folder.\n",
        "\n",
        "%cd '/content/gdrive/MyDrive/dataV/'"
      ],
      "execution_count": null,
      "outputs": [
        {
          "output_type": "stream",
          "text": [
            "/content/gdrive/My Drive\n"
          ],
          "name": "stdout"
        }
      ]
    },
    {
      "cell_type": "code",
      "metadata": {
        "colab": {
          "base_uri": "https://localhost:8080/"
        },
        "id": "ZE-MguaHvt1s",
        "outputId": "5e50a664-2ed7-4d76-e340-992bd20b92cb"
      },
      "source": [
        "# Predicting for Subject 9.\n",
        "\n",
        "input_data = pd.read_csv('subject_009_01__x.csv')\n",
        "df=sc.fit_transform(input_data)\n",
        "y_frame = pd.read_csv('subject_009_01__y_time.csv')\n",
        "addl_rows = y_frame.shape[0] * 4 - df.shape[0] + 30\n",
        "addl_rows_df = pd.DataFrame(df[-addl_rows:])\n",
        "df = pd.DataFrame(df)\n",
        "df = df.append(addl_rows_df)\n",
        "X_values = []\n",
        "for i in range(0, len(df) - 30, 1):\n",
        "    value = df.iloc[i:(i + 30)].values\n",
        "    X_values.append(value)\n",
        "X_test = np.array(X_values)\n",
        "y_test = model_LSTM.predict(X_test, batch_size = 64, verbose = 1)\n",
        "y_test_class = np.argmax(y_test, axis = 1)\n",
        "output_actual = []\n",
        "for i in range(0, y_test_class.shape[0], 4):\n",
        "    a = list(y_test_class[i:i + 4])\n",
        "    output_actual.append(max(a, key = a.count))\n",
        "y_actual = np.array(output_actual)\n",
        "print(y_actual.size)\n",
        "y_series = pd.Series(y_actual)\n",
        "\n",
        "y_series.to_csv('subject_009_01__y_prediction.csv') \n",
        "files.download('subject_009_01__y_prediction.csv')"
      ],
      "execution_count": null,
      "outputs": [
        {
          "output_type": "stream",
          "text": [
            "594/594 [==============================] - 10s 18ms/step\n",
            "9497\n"
          ],
          "name": "stdout"
        }
      ]
    },
    {
      "cell_type": "code",
      "metadata": {
        "colab": {
          "base_uri": "https://localhost:8080/"
        },
        "id": "ZPhDk7pkx38C",
        "outputId": "1c19b488-32df-4578-ab62-bc074202fcfd"
      },
      "source": [
        "#Predicting for Subject 10.\n",
        "\n",
        "input_data = pd.read_csv('subject_010_01__x.csv')\n",
        "df=sc.fit_transform(input_data)\n",
        "y_frame = pd.read_csv('subject_010_01__y_time.csv')\n",
        "addl_rows = y_frame.shape[0] * 4 - df.shape[0] + 30\n",
        "addl_rows_df = pd.DataFrame(df[-addl_rows:])\n",
        "df = pd.DataFrame(df)\n",
        "df = df.append(addl_rows_df)\n",
        "X_values = []\n",
        "for i in range(0, len(df) - 30, 1):\n",
        "    value = df.iloc[i:(i + 30)].values\n",
        "    X_values.append(value)\n",
        "X_test = np.array(X_values)\n",
        "y_test = model_LSTM.predict(X_test, batch_size = 64, verbose = 1)\n",
        "y_test_class = np.argmax(y_test, axis = 1)\n",
        "output_actual = []\n",
        "for i in range(0, y_test_class.shape[0], 4):\n",
        "    a = list(y_test_bool[i:i + 4])\n",
        "    output_actual.append(max(a, key = a.count))\n",
        "y_actual = np.array(output_actual)\n",
        "print(y_actual.size)\n",
        "y_series = pd.Series(y_actual)\n",
        "\n",
        "y_series.to_csv('subject_010_01__y_prediction.csv') \n",
        "files.download('subject_010_01__y_prediction.csv')"
      ],
      "execution_count": null,
      "outputs": [
        {
          "output_type": "stream",
          "text": [
            "767/767 [==============================] - 14s 18ms/step\n",
            "12269\n"
          ],
          "name": "stdout"
        }
      ]
    },
    {
      "cell_type": "code",
      "metadata": {
        "colab": {
          "base_uri": "https://localhost:8080/"
        },
        "id": "houKvAFA3jVr",
        "outputId": "1a7fdd62-26b4-494f-d2aa-108d7dfdbf17"
      },
      "source": [
        "#Predicting for Subject 11.\n",
        "\n",
        "input_data = pd.read_csv('subject_011_01__x.csv')\n",
        "df=sc.fit_transform(input_data)\n",
        "y_frame = pd.read_csv('subject_011_01__y_time.csv')\n",
        "addl_rows = y_frame.shape[0] * 4 - df.shape[0] + 30\n",
        "addl_rows_df = pd.DataFrame(df[-addl_rows:])\n",
        "df = pd.DataFrame(df)\n",
        "df = df.append(addl_rows_df)\n",
        "X_values = []\n",
        "for i in range(0, len(df) - 30, 1):\n",
        "    value = df.iloc[i:(i + 30)].values\n",
        "    X_values.append(value)\n",
        "X_test = np.array(X_values)\n",
        "y_test = model_LSTM.predict(X_test, batch_size = 64, verbose = 1)\n",
        "y_test_class = np.argmax(y_test, axis = 1)\n",
        "output_actual = []\n",
        "for i in range(0, y_test_class.shape[0], 4):\n",
        "    a = list(y_test_class[i:i + 4])\n",
        "    output_actual.append(max(a, key = a.count))\n",
        "y_actual = np.array(output_actual)\n",
        "print(y_actual.size)\n",
        "y_series = pd.Series(y_actual)\n",
        "\n",
        "y_series.to_csv('subject_011_01__y_prediction.csv') \n",
        "files.download('subject_011_01__y_prediction.csv')"
      ],
      "execution_count": null,
      "outputs": [
        {
          "output_type": "stream",
          "text": [
            "809/809 [==============================] - 14s 18ms/step\n",
            "12939\n"
          ],
          "name": "stdout"
        }
      ]
    },
    {
      "cell_type": "code",
      "metadata": {
        "colab": {
          "base_uri": "https://localhost:8080/"
        },
        "id": "IKRN74WD3jb7",
        "outputId": "0ab56f56-e444-4e3d-fec0-f8f45cc89d33"
      },
      "source": [
        "#Predicting for Subject 12.\n",
        "\n",
        "input_data = pd.read_csv('subject_012_01__x.csv')\n",
        "df=sc.fit_transform(input_data)\n",
        "y_frame = pd.read_csv('subject_012_01__y_time.csv')\n",
        "addl_rows = y_frame.shape[0] * 4 - df.shape[0] + 30\n",
        "addl_rows_df = pd.DataFrame(df[-addl_rows:])\n",
        "df = pd.DataFrame(df)\n",
        "df = df.append(addl_rows_df)\n",
        "X_values = []\n",
        "for i in range(0, len(df) - 30, 1):\n",
        "    value = df.iloc[i:(i + 30)].values\n",
        "    X_values.append(value)\n",
        "X_test = np.array(X_values)\n",
        "y_test = model_LSTM.predict(X_test, batch_size = 64, verbose = 1)\n",
        "y_test_class = np.argmax(y_test, axis = 1)\n",
        "output_actual = []\n",
        "for i in range(0, y_test_class.shape[0], 4):\n",
        "    a = list(y_test_class[i:i + 4])\n",
        "    output_actual.append(max(a, key = a.count))\n",
        "y_actual = np.array(output_actual)\n",
        "print(y_actual.size)\n",
        "y_series = pd.Series(y_actual)\n",
        "\n",
        "y_series.to_csv('subject_012_01__y_prediction.csv') \n",
        "files.download('subject_012_01__y_prediction.csv')"
      ],
      "execution_count": null,
      "outputs": [
        {
          "output_type": "stream",
          "text": [
            "709/709 [==============================] - 13s 18ms/step\n",
            "11329\n"
          ],
          "name": "stdout"
        }
      ]
    }
  ]
}